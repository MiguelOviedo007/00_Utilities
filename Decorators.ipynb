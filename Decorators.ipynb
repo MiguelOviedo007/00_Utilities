{
 "cells": [
  {
   "cell_type": "markdown",
   "id": "51278c0e",
   "metadata": {},
   "source": [
    "# Decorators"
   ]
  },
  {
   "cell_type": "markdown",
   "id": "8934918d",
   "metadata": {},
   "source": [
    "\n",
    "In Python, i decoratori sono una caratteristica potente e flessibile che consente di modificare o estendere il comportamento delle funzioni o delle classi senza modificarne direttamente il codice. I decoratori sono essenzialmente delle funzioni che prendono un'altra funzione come argomento e restituiscono una nuova funzione con il comportamento modificato.\n",
    "\n",
    "Un decoratore in Python segue il modello di progettazione chiamato Decorator Pattern ed è spesso utilizzato per:\n",
    "\n",
    "**Modifica del Comportamento:** I decoratori consentono di modificare il comportamento di una funzione senza dover modificarne il codice. Questo è utile quando si vuole aggiungere funzionalità comuni a molte funzioni senza duplicare il codice.\n",
    "\n",
    "**Misurazione del Tempo:** I decoratori possono essere utilizzati per misurare il tempo di esecuzione di una funzione.\n",
    "\n",
    "**Memorizzazione della Cache:** I decoratori possono memorizzare i risultati delle funzioni in una cache per migliorare le prestazioni quando una funzione viene chiamata più volte con gli stessi argomenti.\n",
    "\n",
    "**Logging:** I decoratori possono essere utilizzati per registrare l'attività delle funzioni, inclusi gli argomenti passati e i risultati restituiti.\n",
    "\n",
    "**Controllo di Accesso:** I decoratori possono essere utilizzati per controllare l'accesso alle funzioni o alle risorse."
   ]
  },
  {
   "cell_type": "markdown",
   "id": "f44fb680",
   "metadata": {},
   "source": [
    "## Sinstassi"
   ]
  },
  {
   "cell_type": "code",
   "execution_count": 54,
   "id": "8285cc60",
   "metadata": {},
   "outputs": [
    {
     "name": "stdout",
     "output_type": "stream",
     "text": [
      "Azioni da aggiungere prima di eseguire la funzione da decorare\n",
      "10\n",
      "Azioni da aggiungere dopo di eseguire la funzione da decorare\n"
     ]
    }
   ],
   "source": [
    "def funzione_decoratrice(funzione_da_decorare):\n",
    "    \n",
    "    def funzione_interna():\n",
    "        \n",
    "        # Azioni aggiuntive\n",
    "        \n",
    "        print(\"Azioni da aggiungere prima di eseguire la funzione da decorare\")\n",
    "        \n",
    "        funzione_da_decorare()\n",
    "        \n",
    "        # Azioni aggiuntive\n",
    "        \n",
    "        print(\"Azioni da aggiungere dopo di eseguire la funzione da decorare\")\n",
    "        \n",
    "    return funzione_interna\n",
    "\n",
    "\n",
    "\n",
    "@funzione_decoratrice\n",
    "def somma():\n",
    "    print(5 + 5)\n",
    "    \n",
    "somma()"
   ]
  },
  {
   "cell_type": "markdown",
   "id": "134b68ed",
   "metadata": {},
   "source": [
    "funzione_da_decorare = def somma():"
   ]
  },
  {
   "cell_type": "code",
   "execution_count": 31,
   "id": "4d86fddf",
   "metadata": {},
   "outputs": [],
   "source": [
    "import time\n",
    "\n",
    "def measure_time(func):\n",
    "    def wrapper(*args, **kwargs):\n",
    "        start = time.time()\n",
    "        result = func(*args, **kwargs)\n",
    "        end = time.time()\n",
    "        print(f\"Execution time: {end - start:.3f} seconds\")\n",
    "        return result\n",
    "    return wrapper"
   ]
  },
  {
   "cell_type": "code",
   "execution_count": 34,
   "id": "7132f676",
   "metadata": {},
   "outputs": [
    {
     "name": "stdout",
     "output_type": "stream",
     "text": [
      "Function executed!\n",
      "Execution time: 2.003 seconds\n"
     ]
    }
   ],
   "source": [
    "@measure_time\n",
    "def my_function():\n",
    "    lista = [i^2 for i in range(500000)]\n",
    "    return lista\n",
    "\n",
    "my_function()"
   ]
  },
  {
   "cell_type": "code",
   "execution_count": null,
   "id": "5e0d01f0",
   "metadata": {},
   "outputs": [],
   "source": [
    "@measure_time\n",
    "def my_function():\n",
    "    # Codice da misurare nel tempo di esecuzione\n",
    "    time.sleep(2)\n",
    "    print(\"Function executed!\")\n",
    "\n",
    "my_function()\n"
   ]
  },
  {
   "cell_type": "code",
   "execution_count": 35,
   "id": "67e4dd07",
   "metadata": {},
   "outputs": [],
   "source": [
    "def log_function(func):\n",
    "    def wrapper(*args, **kwargs):\n",
    "        print(f\"Function {func.__name__} called with args={args} kwargs={kwargs}\")\n",
    "        result = func(*args, **kwargs)\n",
    "        print(f\"Function {func.__name__} returned {result}\")\n",
    "        return result\n",
    "    return wrapper"
   ]
  },
  {
   "cell_type": "code",
   "execution_count": 46,
   "id": "d84cc4c3",
   "metadata": {},
   "outputs": [
    {
     "name": "stdout",
     "output_type": "stream",
     "text": [
      "Function add called with args=(10, 5, 122) kwargs={}\n",
      "Function add returned 137\n"
     ]
    },
    {
     "data": {
      "text/plain": [
       "137"
      ]
     },
     "execution_count": 46,
     "metadata": {},
     "output_type": "execute_result"
    }
   ],
   "source": [
    "@log_function\n",
    "def add(a, b, c):\n",
    "    return a + b + c\n",
    "\n",
    "# result = add(10, 5, 122)\n",
    "add(10, 5, 122)"
   ]
  }
 ],
 "metadata": {
  "kernelspec": {
   "display_name": "Python 3 (ipykernel)",
   "language": "python",
   "name": "python3"
  },
  "language_info": {
   "codemirror_mode": {
    "name": "ipython",
    "version": 3
   },
   "file_extension": ".py",
   "mimetype": "text/x-python",
   "name": "python",
   "nbconvert_exporter": "python",
   "pygments_lexer": "ipython3",
   "version": "3.10.9"
  },
  "toc": {
   "base_numbering": 1,
   "nav_menu": {},
   "number_sections": true,
   "sideBar": true,
   "skip_h1_title": false,
   "title_cell": "Table of Contents",
   "title_sidebar": "Contents",
   "toc_cell": false,
   "toc_position": {},
   "toc_section_display": true,
   "toc_window_display": false
  },
  "varInspector": {
   "cols": {
    "lenName": 16,
    "lenType": 16,
    "lenVar": 40
   },
   "kernels_config": {
    "python": {
     "delete_cmd_postfix": "",
     "delete_cmd_prefix": "del ",
     "library": "var_list.py",
     "varRefreshCmd": "print(var_dic_list())"
    },
    "r": {
     "delete_cmd_postfix": ") ",
     "delete_cmd_prefix": "rm(",
     "library": "var_list.r",
     "varRefreshCmd": "cat(var_dic_list()) "
    }
   },
   "types_to_exclude": [
    "module",
    "function",
    "builtin_function_or_method",
    "instance",
    "_Feature"
   ],
   "window_display": false
  }
 },
 "nbformat": 4,
 "nbformat_minor": 5
}
